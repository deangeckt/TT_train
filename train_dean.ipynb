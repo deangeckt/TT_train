{
 "cells": [
  {
   "cell_type": "markdown",
   "metadata": {},
   "source": [
    "# Reading Data"
   ]
  },
  {
   "cell_type": "code",
   "execution_count": 1,
   "metadata": {},
   "outputs": [
    {
     "name": "stderr",
     "output_type": "stream",
     "text": [
      "2318it [00:00, 6238.07it/s]\n"
     ]
    }
   ],
   "source": [
    "import numpy as np\n",
    "import matplotlib.pyplot as plt\n",
    "import torch\n",
    "from utils.general import read_raw_data\n",
    "\n",
    "# x, y, metadata = read_raw_data(score_path='labels/fts_score.csv', data_path='labels/fts_data.csv')\n",
    "x, y, metadata = read_raw_data(score_path='labels/fco_score.csv', data_path='labels/fco_data.csv')"
   ]
  },
  {
   "cell_type": "markdown",
   "metadata": {},
   "source": [
    "# Binary scoring"
   ]
  },
  {
   "cell_type": "code",
   "execution_count": 2,
   "metadata": {},
   "outputs": [
    {
     "name": "stdout",
     "output_type": "stream",
     "text": [
      "label: 0: 2139 samples\n",
      "label: 1: 162 samples\n"
     ]
    }
   ],
   "source": [
    "score_threshold = 6\n",
    "labels = np.array(y)\n",
    "labels[labels <= score_threshold] = 0\n",
    "labels[labels > score_threshold] = 1\n",
    "unique, counts = np.unique(labels, return_counts=True)\n",
    "for idx, c in enumerate(counts):\n",
    "    print(f'label: {idx}: {c} samples')"
   ]
  },
  {
   "cell_type": "markdown",
   "metadata": {},
   "source": [
    "# Config"
   ]
  },
  {
   "cell_type": "code",
   "execution_count": 3,
   "metadata": {},
   "outputs": [],
   "source": [
    "## Network\n",
    "HIDDEN_DIM = 64\n",
    "OUTPUT_DIM = 2\n",
    "BATCH_SIZE = 64\n",
    "IS_BID = True\n",
    "NUM_LAYERS = 1\n",
    "\n",
    "## Optimizer  \n",
    "lr = 1e-3\n",
    "weight_decay=0.001\n",
    "\n",
    "## Scheduler\n",
    "step_size=3\n",
    "gamma=0.5\n",
    "\n",
    "early_stop_patience = 5"
   ]
  },
  {
   "cell_type": "markdown",
   "metadata": {},
   "source": [
    "# Augmentation"
   ]
  },
  {
   "cell_type": "code",
   "execution_count": 4,
   "metadata": {},
   "outputs": [
    {
     "name": "stdout",
     "output_type": "stream",
     "text": [
      "generating 1977 shots\n"
     ]
    },
    {
     "data": {
      "application/vnd.jupyter.widget-view+json": {
       "model_id": "c44f6a7ee2da4594a0a88ff54ba3fe91",
       "version_major": 2,
       "version_minor": 0
      },
      "text/plain": [
       "  0%|          | 0/1977 [00:00<?, ?it/s]"
      ]
     },
     "metadata": {},
     "output_type": "display_data"
    },
    {
     "name": "stdout",
     "output_type": "stream",
     "text": [
      "x torch.Size([4278, 50, 100])\n",
      "y (4278,)\n"
     ]
    }
   ],
   "source": [
    "import pandas as pd\n",
    "from utils.general import rand_shot\n",
    "from tqdm.notebook import tqdm\n",
    "\n",
    "frame_prob = 0.5\n",
    "\n",
    "data = x.clone()\n",
    "pos = np.where(labels==1)\n",
    "neg = np.where(labels==0)\n",
    "data_pos = data[pos]\n",
    "data_neg = data[neg]\n",
    "\n",
    "up_sample_amount = len(neg[0]) - len(pos[0])\n",
    "print(f'generating {up_sample_amount} shots')\n",
    "\n",
    "rand_amount = 0\n",
    "new_data = []\n",
    "run_ = True\n",
    "\n",
    "with tqdm(total=up_sample_amount) as pbar:\n",
    "    while run_:\n",
    "        for shot_idx, shot in enumerate(data_pos):\n",
    "            amount = metadata[shot_idx]['frames']\n",
    "            name = metadata[shot_idx]['name']\n",
    "            new_shot = rand_shot(shot, amount, frame_prob=frame_prob)\n",
    "            \n",
    "            \n",
    "            metadata = np.append(metadata, {'name': f'{name}_rand_{rand_amount}', 'frames': amount})\n",
    "            new_data.append(new_shot)\n",
    "            rand_amount += 1 \n",
    "            pbar.update(1)\n",
    "            \n",
    "            if rand_amount == up_sample_amount:\n",
    "                run_ = False\n",
    "                break\n",
    "new_data_pos = torch.stack([shot for shot in new_data])\n",
    "data_pos = torch.vstack((data_pos, new_data_pos))\n",
    "data = torch.vstack((data_pos, data_neg))\n",
    "labels = np.concatenate((labels, np.ones(up_sample_amount)), axis=0)\n",
    "\n",
    "labels_names = pd.DataFrame({'label': labels, 'metadata': metadata})\n",
    "print('x', data.shape)\n",
    "print('y', labels.shape)\n"
   ]
  },
  {
   "cell_type": "markdown",
   "metadata": {},
   "source": [
    "# Feature Selection"
   ]
  },
  {
   "cell_type": "code",
   "execution_count": 5,
   "metadata": {},
   "outputs": [
    {
     "name": "stdout",
     "output_type": "stream",
     "text": [
      "torch.Size([4278, 50, 100])\n"
     ]
    }
   ],
   "source": [
    "def feature_selection(remove_features):\n",
    "    idxs = []\n",
    "    for p in remove_features:\n",
    "        idxs.extend(list(range(p*4, p*4 + 4)))\n",
    "    return np.delete(data, idxs, axis=2)\n",
    "\n",
    "head_landmarks = [0, 1, 2, 3, 4, 5, 6, 7, 8, 9, 10]\n",
    "data = feature_selection([])\n",
    "print(data.shape)\n",
    "\n",
    "NUM_FEATURES = 100 - (len([]) * 4)"
   ]
  },
  {
   "cell_type": "markdown",
   "metadata": {},
   "source": [
    "# Data Set & Loaders"
   ]
  },
  {
   "cell_type": "code",
   "execution_count": 6,
   "metadata": {},
   "outputs": [
    {
     "name": "stdout",
     "output_type": "stream",
     "text": [
      "#train samples:  2053\n",
      "#valid samples:  1369\n",
      "#test  samples:  856\n"
     ]
    }
   ],
   "source": [
    "from torch.utils.data import Dataset, DataLoader\n",
    "from sklearn.model_selection import train_test_split\n",
    "\n",
    "x_train, x_test, y_train, y_test = train_test_split(data, labels_names, test_size=0.2, random_state=42, stratify=labels)\n",
    "x_train, x_val, y_train, y_val = train_test_split(x_train, y_train, test_size=0.4, random_state=42,\n",
    "                                                  stratify=y_train['label'])\n",
    "\n",
    "class TTDataset(Dataset):\n",
    "    def __init__(self, data, labels):\n",
    "        self.data = data\n",
    "        self.labels = labels\n",
    "\n",
    "    def __len__(self):\n",
    "        return len(self.data)\n",
    "\n",
    "    def __getitem__(self, idx):\n",
    "        return self.data[idx], self.labels.iloc[idx]['label'], idx\n",
    "\n",
    "def create_dataloaders(batch_size):\n",
    "    train_data = TTDataset(x_train, y_train)\n",
    "    test_data = TTDataset(x_test, y_test)\n",
    "    validation_data = TTDataset(x_val, y_val)\n",
    "    \n",
    "    print('#train samples: ', len(train_data))\n",
    "    print('#valid samples: ', len(validation_data))\n",
    "    print('#test  samples: ', len(test_data))\n",
    "    \n",
    "    train_loader = DataLoader(train_data, batch_size=batch_size, shuffle=True)\n",
    "    validation_loader = DataLoader(validation_data, batch_size=batch_size, shuffle=True)\n",
    "    test_loader = DataLoader(test_data, batch_size=batch_size, shuffle=False)\n",
    "    \n",
    "    return train_loader, validation_loader, test_loader\n",
    "\n",
    "    \n",
    "train_loader, validation_loader, test_loader = create_dataloaders(BATCH_SIZE)"
   ]
  },
  {
   "cell_type": "markdown",
   "metadata": {},
   "source": [
    "# Learning"
   ]
  },
  {
   "cell_type": "code",
   "execution_count": 7,
   "metadata": {},
   "outputs": [],
   "source": [
    "import torch.nn as nn\n",
    "import math\n",
    "\n",
    "class Attention(nn.Module):\n",
    "    def __init__(self, hidden_size):\n",
    "        super().__init__()\n",
    "        self.hidden_size = hidden_size\n",
    "        self.scale = 1. / math.sqrt(hidden_size)\n",
    "\n",
    "    def forward(self, hidden, outputs):\n",
    "        hidden = hidden.unsqueeze(1)\n",
    "        values = outputs.transpose(0, 1)\n",
    "        outputs = outputs.transpose(0, 1).transpose(1, 2)\n",
    "\n",
    "        weights = torch.bmm(hidden, outputs)\n",
    "        scores = F.softmax(weights.mul_(self.scale), dim=2)\n",
    "        linear_combination = torch.bmm(scores, values).squeeze(1)\n",
    "        return linear_combination\n",
    "\n",
    "\n",
    "class Network(nn.Module):\n",
    "    def __init__(self, input_dim, h_dim, out_dim, num_layers=1, bidirectional=True):\n",
    "        super().__init__()\n",
    "        self.num_layers = num_layers\n",
    "        self.h_dim = h_dim\n",
    "        self.bidirectional = bidirectional\n",
    "        self.dropout = nn.Dropout(0.5)\n",
    "\n",
    "        # Attention layer - unused so far\n",
    "        hid_bidirectional = h_dim * 2 if bidirectional else h_dim\n",
    "        self.atten = Attention(hid_bidirectional)\n",
    "\n",
    "        # LSTM\n",
    "        self.lstm = nn.LSTM(input_size=input_dim,\n",
    "                            hidden_size=h_dim,\n",
    "                            num_layers=num_layers,\n",
    "                            bidirectional=bidirectional, batch_first=True)  # dropout\n",
    "        # FC layer\n",
    "        self.fc = nn.Linear(hid_bidirectional, out_dim, bias=True)\n",
    "\n",
    "        # To convert class scores to log-probability we'll apply log-softmax\n",
    "        self.log_softmax = nn.LogSoftmax(dim=1)\n",
    "\n",
    "    def forward(self, X):\n",
    "        lay_times_dir = self.num_layers * 2 if self.bidirectional else self.num_layers\n",
    "        h0 = torch.zeros(lay_times_dir, BATCH_SIZE, HIDDEN_DIM).to(device)\n",
    "        c0 = torch.zeros(lay_times_dir, BATCH_SIZE, HIDDEN_DIM).to(device)\n",
    "\n",
    "        out, (h_t, c_t) = self.lstm(X, (h0, c0))\n",
    "        if self.bidirectional:\n",
    "            cell_state = torch.cat([c_t[-1], c_t[-2]], dim=1)\n",
    "        else:\n",
    "            cell_state = c_t[-1]\n",
    "\n",
    "        y = self.fc(cell_state)\n",
    "        yt_log_proba = self.log_softmax(y)\n",
    "        return yt_log_proba"
   ]
  },
  {
   "cell_type": "code",
   "execution_count": 8,
   "metadata": {},
   "outputs": [
    {
     "name": "stdout",
     "output_type": "stream",
     "text": [
      "cuda\n"
     ]
    }
   ],
   "source": [
    "device = torch.device('cpu')\n",
    "if torch.cuda.is_available():\n",
    "    device = torch.device('cuda')\n",
    "print(device)"
   ]
  },
  {
   "cell_type": "code",
   "execution_count": 9,
   "metadata": {
    "scrolled": true
   },
   "outputs": [
    {
     "name": "stdout",
     "output_type": "stream",
     "text": [
      "epoch 0 | train loss : 0.6760386824607849 validation loss: 0.6335269808769226 \n",
      "epoch 0 | train acc : 0.63427734375 validation acc: 0.6398809523809523 \n",
      "epoch 1 | train loss : 0.6008085608482361 validation loss: 0.5907674431800842 \n",
      "epoch 1 | train acc : 0.69482421875 validation acc: 0.6793154761904762 \n",
      "epoch 2 | train loss : 0.5576513409614563 validation loss: 0.522183895111084 \n",
      "epoch 2 | train acc : 0.76318359375 validation acc: 0.7552083333333334 \n",
      "epoch 3 | train loss : 0.513128399848938 validation loss: 0.4907718896865845 \n",
      "epoch 3 | train acc : 0.767578125 validation acc: 0.78125 \n",
      "epoch 4 | train loss : 0.48428598046302795 validation loss: 0.4458107650279999 \n",
      "epoch 4 | train acc : 0.82275390625 validation acc: 0.8206845238095238 \n",
      "epoch 5 | train loss : 0.46231865882873535 validation loss: 0.44002801179885864 \n",
      "epoch 5 | train acc : 0.82470703125 validation acc: 0.8244047619047619 \n",
      "epoch 6 | train loss : 0.4482082426548004 validation loss: 0.47382283210754395 \n",
      "epoch 6 | train acc : 0.7958984375 validation acc: 0.7983630952380952 \n",
      "epoch 7 | train loss : 0.4295113682746887 validation loss: 0.4114001989364624 \n",
      "epoch 7 | train acc : 0.8427734375 validation acc: 0.8363095238095238 \n",
      "epoch 8 | train loss : 0.4149293005466461 validation loss: 0.4065955877304077 \n",
      "epoch 8 | train acc : 0.85009765625 validation acc: 0.8415178571428571 \n",
      "epoch 9 | train loss : 0.4045279026031494 validation loss: 0.40506547689437866 \n",
      "epoch 9 | train acc : 0.84716796875 validation acc: 0.84375 \n",
      "epoch 10 | train loss : 0.397443950176239 validation loss: 0.4078802466392517 \n",
      "epoch 10 | train acc : 0.84375 validation acc: 0.8392857142857143 \n",
      "epoch 11 | train loss : 0.39992013573646545 validation loss: 0.4165756106376648 \n",
      "epoch 11 | train acc : 0.83251953125 validation acc: 0.828125 \n",
      "epoch 12 | train loss : 0.4009265601634979 validation loss: 0.40129581093788147 \n",
      "epoch 12 | train acc : 0.8447265625 validation acc: 0.8385416666666666 \n",
      "epoch 13 | train loss : 0.39313071966171265 validation loss: 0.40027356147766113 \n",
      "epoch 13 | train acc : 0.84814453125 validation acc: 0.84375 \n",
      "epoch 14 | train loss : 0.3886594772338867 validation loss: 0.40197986364364624 \n",
      "epoch 14 | train acc : 0.84814453125 validation acc: 0.8452380952380952 \n",
      "epoch 15 | train loss : 0.3867989778518677 validation loss: 0.39390596747398376 \n",
      "epoch 15 | train acc : 0.85693359375 validation acc: 0.8415178571428571 \n",
      "epoch 16 | train loss : 0.38427865505218506 validation loss: 0.3985668420791626 \n",
      "epoch 16 | train acc : 0.8505859375 validation acc: 0.8459821428571429 \n",
      "epoch 17 | train loss : 0.38050803542137146 validation loss: 0.3959766626358032 \n",
      "epoch 17 | train acc : 0.85107421875 validation acc: 0.8422619047619048 \n",
      "epoch 18 | train loss : 0.38044998049736023 validation loss: 0.39674583077430725 \n",
      "epoch 18 | train acc : 0.85498046875 validation acc: 0.8467261904761905 \n",
      "epoch 19 | train loss : 0.3825766146183014 validation loss: 0.39519092440605164 \n",
      "epoch 19 | train acc : 0.85546875 validation acc: 0.8415178571428571 \n",
      "epoch 20 | train loss : 0.38107234239578247 validation loss: 0.3906123638153076 \n",
      "epoch 20 | train acc : 0.8505859375 validation acc: 0.8474702380952381 \n",
      "epoch 21 | train loss : 0.3821924924850464 validation loss: 0.3896079361438751 \n",
      "epoch 21 | train acc : 0.85498046875 validation acc: 0.8511904761904762 \n",
      "epoch 22 | train loss : 0.38123857975006104 validation loss: 0.392509400844574 \n",
      "epoch 22 | train acc : 0.85791015625 validation acc: 0.8422619047619048 \n",
      "epoch 23 | train loss : 0.37939122319221497 validation loss: 0.3892506957054138 \n",
      "epoch 23 | train acc : 0.85791015625 validation acc: 0.8459821428571429 \n",
      "epoch 24 | train loss : 0.37921249866485596 validation loss: 0.39185166358947754 \n",
      "epoch 24 | train acc : 0.85986328125 validation acc: 0.8504464285714286 \n",
      "epoch 25 | train loss : 0.3792021870613098 validation loss: 0.3866901397705078 \n",
      "epoch 25 | train acc : 0.8583984375 validation acc: 0.8504464285714286 \n",
      "epoch 26 | train loss : 0.38054025173187256 validation loss: 0.39116281270980835 \n",
      "epoch 26 | train acc : 0.8603515625 validation acc: 0.8489583333333334 \n",
      "epoch 27 | train loss : 0.37942832708358765 validation loss: 0.39423075318336487 \n",
      "epoch 27 | train acc : 0.8583984375 validation acc: 0.8444940476190477 \n",
      "epoch 28 | train loss : 0.3795495629310608 validation loss: 0.3898460865020752 \n",
      "epoch 28 | train acc : 0.85986328125 validation acc: 0.8511904761904762 \n",
      "epoch 29 | train loss : 0.37879234552383423 validation loss: 0.3933201730251312 \n",
      "epoch 29 | train acc : 0.8583984375 validation acc: 0.8444940476190477 \n",
      "epoch 30 | train loss : 0.378179132938385 validation loss: 0.392612099647522 \n",
      "epoch 30 | train acc : 0.8603515625 validation acc: 0.8467261904761905 \n",
      "Test accuracy: 0.8497596153846154\n"
     ]
    },
    {
     "data": {
      "image/png": "[encoded data removed]",
      "text/plain": [
       "<Figure size 432x288 with 1 Axes>"
      ]
     },
     "metadata": {
      "needs_background": "light"
     },
     "output_type": "display_data"
    },
    {
     "data": {
      "image/png": "[encoded data removed]",
      "text/plain": [
       "<Figure size 432x288 with 1 Axes>"
      ]
     },
     "metadata": {
      "needs_background": "light"
     },
     "output_type": "display_data"
    }
   ],
   "source": [
    "from utils.learn import train_model\n",
    "\n",
    "model = Network(NUM_FEATURES, HIDDEN_DIM, OUTPUT_DIM,\n",
    "                bidirectional=IS_BID, num_layers=NUM_LAYERS).to(device)\n",
    "\n",
    "features_name = 'all_features' if NUM_FEATURES == 100 else 'no_head'\n",
    "aug_name = 'with_aug' if frame_prob > 0 else 'no_aug'\n",
    "model_name = f'b{BATCH_SIZE}_lr{lr}_sz{step_size}_g{gamma}_h{HIDDEN_DIM}_nl{NUM_LAYERS}_{features_name}_{aug_name}.pt'\n",
    "print(model_name)\n",
    "optimizer = torch.optim.Adam(model.parameters(), lr=lr, weight_decay=weight_decay)\n",
    "loss_fn = nn.NLLLoss()\n",
    "scheduler = torch.optim.lr_scheduler.StepLR(optimizer, step_size=step_size, gamma=gamma)\n",
    "\n",
    "train_model(model, model_name, BATCH_SIZE, device, early_stop_patience,\n",
    "            train_loader, validation_loader, test_loader,\n",
    "            optimizer, scheduler, loss_fn)"
   ]
  },
  {
   "cell_type": "markdown",
   "metadata": {},
   "source": [
    "# False analysis "
   ]
  },
  {
   "cell_type": "code",
   "execution_count": 10,
   "metadata": {},
   "outputs": [
    {
     "data": {
      "text/plain": [
       "<sklearn.metrics._plot.confusion_matrix.ConfusionMatrixDisplay at 0x24ce99e7ac0>"
      ]
     },
     "execution_count": 10,
     "metadata": {},
     "output_type": "execute_result"
    },
    {
     "data": {
      "image/png": "[encoded data removed]",
      "text/plain": [
       "<Figure size 432x288 with 2 Axes>"
      ]
     },
     "metadata": {
      "needs_background": "light"
     },
     "output_type": "display_data"
    }
   ],
   "source": [
    "from sklearn.metrics import confusion_matrix, ConfusionMatrixDisplay\n",
    "from utils.learn import predict\n",
    "from visualization import points_visualization\n",
    "from IPython.display import Image\n",
    "\n",
    "model.load_state_dict(torch.load('model_results/' + model_name))\n",
    "model.eval()\n",
    "correct_idx, wrong_idx, y_pred, y_true = predict(model, test_loader, device, BATCH_SIZE)\n",
    "\n",
    "cm = confusion_matrix(y_true, y_pred, labels=[0,1], normalize='true')\n",
    "disp = ConfusionMatrixDisplay(confusion_matrix=cm)\n",
    "disp.plot()"
   ]
  },
  {
   "cell_type": "code",
   "execution_count": 11,
   "metadata": {},
   "outputs": [
    {
     "name": "stdout",
     "output_type": "stream",
     "text": [
      "\n",
      "debug original idx in test set:  3\n",
      "true label: 0.0\n",
      "correct: True\n",
      "shot name:  fco_19_3_80\n",
      "frames 12\n"
     ]
    }
   ],
   "source": [
    "# print('correct', correct_idx)\n",
    "# print('wrong', wrong_idx)\n",
    "print()\n",
    "\n",
    "debug_idx = 3\n",
    "debug_name = y_test.iloc[debug_idx]['metadata']['name']\n",
    "debug_amount = y_test.iloc[debug_idx]['metadata']['frames']\n",
    "\n",
    "debug_X = x_test[debug_idx]\n",
    "\n",
    "print('debug original idx in test set: ', debug_idx)\n",
    "print('true label:', y_test.iloc[debug_idx]['label'])\n",
    "print('correct:', debug_idx in correct_idx)\n",
    "print('shot name: ', debug_name)\n",
    "print('frames', debug_amount)"
   ]
  },
  {
   "cell_type": "code",
   "execution_count": 12,
   "metadata": {},
   "outputs": [],
   "source": [
    "# points_visualization.create_gif_for_given_shot(debug_name, debug_X, debug_amount,[])\n",
    "# with open(f'visualization/shots_3d_demo/{debug_name}.gif','rb') as f:\n",
    "#     display(Image(data=f.read(), format='png'))"
   ]
  }
 ],
 "metadata": {
  "kernelspec": {
   "display_name": "Python 3 (ipykernel)",
   "language": "python",
   "name": "python3"
  },
  "language_info": {
   "codemirror_mode": {
    "name": "ipython",
    "version": 3
   },
   "file_extension": ".py",
   "mimetype": "text/x-python",
   "name": "python",
   "nbconvert_exporter": "python",
   "pygments_lexer": "ipython3",
   "version": "3.9.0"
  }
 },
 "nbformat": 4,
 "nbformat_minor": 1
}
