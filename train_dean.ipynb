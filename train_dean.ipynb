{
 "cells": [
  {
   "cell_type": "markdown",
   "metadata": {},
   "source": [
    "# Reading Data"
   ]
  },
  {
   "cell_type": "code",
   "execution_count": 1,
   "metadata": {},
   "outputs": [
    {
     "name": "stdout",
     "output_type": "stream",
     "text": [
      "all examples: 1371\n"
     ]
    },
    {
     "name": "stderr",
     "output_type": "stream",
     "text": [
      "1371it [00:36, 37.90it/s]\n"
     ]
    }
   ],
   "source": [
    "import numpy as np\n",
    "import matplotlib.pyplot as plt\n",
    "import torch\n",
    "from utils.general import read_raw_data\n",
    "\n",
    "x, y, names = read_raw_data(score_path='labels/fts_score.csv', data_path='labels/fts_data.csv')\n",
    "# TODO: code to combine fts and fco"
   ]
  },
  {
   "cell_type": "markdown",
   "metadata": {},
   "source": [
    "# Binary scoring"
   ]
  },
  {
   "cell_type": "code",
   "execution_count": 2,
   "metadata": {},
   "outputs": [
    {
     "name": "stdout",
     "output_type": "stream",
     "text": [
      "label: 0: 1101 samples\n",
      "label: 1: 270 samples\n"
     ]
    }
   ],
   "source": [
    "score_threshold = 6\n",
    "labels = np.array(y)\n",
    "labels[labels <= score_threshold] = 0\n",
    "labels[labels > score_threshold] = 1\n",
    "unique, counts = np.unique(labels, return_counts=True)\n",
    "for idx, c in enumerate(counts):\n",
    "    print(f'label: {idx}: {c} samples')"
   ]
  },
  {
   "cell_type": "markdown",
   "metadata": {},
   "source": [
    "# Config"
   ]
  },
  {
   "cell_type": "code",
   "execution_count": 3,
   "metadata": {},
   "outputs": [],
   "source": [
    "## Network\n",
    "HIDDEN_DIM = 64\n",
    "OUTPUT_DIM = 2\n",
    "BATCH_SIZE = 4\n",
    "IS_BID = True\n",
    "NUM_LAYERS = 2\n",
    "\n",
    "## Optimizer  \n",
    "lr = 1e-3\n",
    "weight_decay=0.001\n",
    "\n",
    "## Scheduler\n",
    "step_size=3\n",
    "gamma=0.5\n",
    "\n",
    "early_stop_patience = 10"
   ]
  },
  {
   "cell_type": "markdown",
   "metadata": {},
   "source": [
    "# Feature Selection"
   ]
  },
  {
   "cell_type": "code",
   "execution_count": 4,
   "metadata": {
    "pycharm": {
     "name": "#%%\n"
    }
   },
   "outputs": [
    {
     "name": "stdout",
     "output_type": "stream",
     "text": [
      "torch.Size([1371, 50, 56])\n"
     ]
    }
   ],
   "source": [
    "def feature_selection(remove_features):\n",
    "    idxs = []\n",
    "    for p in remove_features:\n",
    "        idxs.extend(list(range(p*4, p*4 + 4)))\n",
    "    return np.delete(x, idxs, axis=2)\n",
    "\n",
    "head_landmarks = [0, 1, 2, 3, 4, 5, 6, 7, 8, 9, 10]\n",
    "data = feature_selection(head_landmarks)\n",
    "print(data.shape)\n",
    "\n",
    "NUM_FEATURES = 100 - (len(head_landmarks) * 4)"
   ]
  },
  {
   "cell_type": "markdown",
   "metadata": {},
   "source": [
    "# Augmentation"
   ]
  },
  {
   "cell_type": "code",
   "execution_count": 5,
   "metadata": {},
   "outputs": [
    {
     "name": "stdout",
     "output_type": "stream",
     "text": [
      "pos torch.Size([270, 50, 56]) (270,)\n",
      "neg torch.Size([270, 50, 56]) (270,)\n",
      "(540, 50, 56)\n",
      "(540,)\n"
     ]
    }
   ],
   "source": [
    "# currently simple sub sampling\n",
    "labels[labels==1]\n",
    "pos = np.where(labels==1)\n",
    "neg = np.where(labels==0)\n",
    "\n",
    "data_pos = data[pos]\n",
    "data_neg = data[neg]\n",
    "data_neg = data_neg[0:len(data_pos)]\n",
    "\n",
    "labels_pos = labels[pos]\n",
    "labels_neg = labels[neg]\n",
    "labels_neg = labels_neg[0:len(labels_pos)]\n",
    "\n",
    "print('pos', data_pos.shape, labels_pos.shape)\n",
    "print('neg', data_neg.shape, labels_neg.shape)\n",
    "\n",
    "data = np.vstack((data_pos,data_neg))\n",
    "labels = np.concatenate((labels_pos, labels_neg), axis=0)\n",
    "\n",
    "print(data.shape)\n",
    "print(labels.shape)"
   ]
  },
  {
   "cell_type": "markdown",
   "metadata": {},
   "source": [
    "# Data Set & Loaders"
   ]
  },
  {
   "cell_type": "code",
   "execution_count": 6,
   "metadata": {},
   "outputs": [
    {
     "name": "stdout",
     "output_type": "stream",
     "text": [
      "#train samples:  259\n",
      "#valid samples:  173\n",
      "#test  samples:  108\n"
     ]
    }
   ],
   "source": [
    "from torch.utils.data import Dataset, DataLoader\n",
    "from sklearn.model_selection import train_test_split\n",
    "\n",
    "x_train, x_test, y_train, y_test = train_test_split(data, labels, test_size=0.2, random_state=42, stratify=labels)\n",
    "x_train, x_val, y_train, y_val = train_test_split(x_train, y_train, test_size=0.4, random_state=42, stratify=y_train)\n",
    "\n",
    "class TTDataset(Dataset):\n",
    "    def __init__(self, data, labels):\n",
    "        self.data = data\n",
    "        self.labels = labels\n",
    "\n",
    "    def __len__(self):\n",
    "        return len(self.data)\n",
    "\n",
    "    def __getitem__(self, idx):\n",
    "        return self.data[idx], self.labels[idx], idx\n",
    "\n",
    "def create_dataloaders(batch_size):\n",
    "    train_data = TTDataset(x_train, y_train)\n",
    "    test_data = TTDataset(x_test, y_test)\n",
    "    validation_data = TTDataset(x_val, y_val)\n",
    "    \n",
    "    print('#train samples: ', len(train_data))\n",
    "    print('#valid samples: ', len(validation_data))\n",
    "    print('#test  samples: ', len(test_data))\n",
    "    \n",
    "    train_loader = DataLoader(train_data, batch_size=batch_size, shuffle=True)\n",
    "    validation_loader = DataLoader(validation_data, batch_size=batch_size, shuffle=True)\n",
    "    test_loader = DataLoader(test_data, batch_size=batch_size, shuffle=True)\n",
    "    \n",
    "    return train_loader, validation_loader, test_loader\n",
    "\n",
    "    \n",
    "train_loader, validation_loader, test_loader = create_dataloaders(BATCH_SIZE)"
   ]
  },
  {
   "cell_type": "markdown",
   "metadata": {},
   "source": [
    "# Learning"
   ]
  },
  {
   "cell_type": "code",
   "execution_count": 7,
   "metadata": {},
   "outputs": [],
   "source": [
    "import torch.nn as nn\n",
    "import math\n",
    "\n",
    "class Attention(nn.Module):\n",
    "    def __init__(self, hidden_size):\n",
    "        super().__init__()\n",
    "        self.hidden_size = hidden_size\n",
    "        self.scale = 1. / math.sqrt(hidden_size)\n",
    "\n",
    "    def forward(self, hidden, outputs):\n",
    "        hidden = hidden.unsqueeze(1)\n",
    "        values = outputs.transpose(0, 1)\n",
    "        outputs = outputs.transpose(0, 1).transpose(1, 2)\n",
    "\n",
    "        weights = torch.bmm(hidden, outputs)\n",
    "        scores = F.softmax(weights.mul_(self.scale), dim=2)\n",
    "        linear_combination = torch.bmm(scores, values).squeeze(1)\n",
    "        return linear_combination\n",
    "\n",
    "\n",
    "class Network(nn.Module):\n",
    "    def __init__(self, input_dim, h_dim, out_dim, num_layers=1, bidirectional=True):\n",
    "        super().__init__()\n",
    "        self.num_layers = num_layers\n",
    "        self.h_dim = h_dim\n",
    "        self.bidirectional = bidirectional\n",
    "        self.dropout = nn.Dropout(0.5)\n",
    "\n",
    "        # Attention layer - unused so far\n",
    "        hid_bidirectional = h_dim * 2 if bidirectional else h_dim\n",
    "        self.atten = Attention(hid_bidirectional)\n",
    "\n",
    "        # LSTM\n",
    "        self.lstm = nn.LSTM(input_size=input_dim,\n",
    "                            hidden_size=h_dim,\n",
    "                            num_layers=num_layers,\n",
    "                            bidirectional=bidirectional, batch_first=True)  # dropout\n",
    "        # FC layer\n",
    "        self.fc = nn.Linear(hid_bidirectional, out_dim, bias=True)\n",
    "\n",
    "        # To convert class scores to log-probability we'll apply log-softmax\n",
    "        self.log_softmax = nn.LogSoftmax(dim=1)\n",
    "\n",
    "    def forward(self, X):\n",
    "        lay_times_dir = self.num_layers * 2 if self.bidirectional else self.num_layers\n",
    "        h0 = torch.zeros(lay_times_dir, BATCH_SIZE, HIDDEN_DIM).to(device)\n",
    "        c0 = torch.zeros(lay_times_dir, BATCH_SIZE, HIDDEN_DIM).to(device)\n",
    "\n",
    "        out, (h_t, c_t) = self.lstm(X, (h0, c0))\n",
    "        if self.bidirectional:\n",
    "            cell_state = torch.cat([c_t[-1], c_t[-2]], dim=1)\n",
    "        else:\n",
    "            cell_state = c_t[-1]\n",
    "\n",
    "        y = self.fc(cell_state)\n",
    "        yt_log_proba = self.log_softmax(y)\n",
    "        return yt_log_proba"
   ]
  },
  {
   "cell_type": "code",
   "execution_count": 8,
   "metadata": {},
   "outputs": [
    {
     "name": "stdout",
     "output_type": "stream",
     "text": [
      "cuda\n"
     ]
    }
   ],
   "source": [
    "device = torch.device('cpu')\n",
    "if torch.cuda.is_available():\n",
    "    device = torch.device('cuda')\n",
    "print(device)"
   ]
  },
  {
   "cell_type": "code",
   "execution_count": 9,
   "metadata": {
    "scrolled": true
   },
   "outputs": [
    {
     "name": "stdout",
     "output_type": "stream",
     "text": [
      "epoch 0 | train loss : 0.6615200638771057 validation loss: 0.5979703664779663 \n",
      "epoch 0 | train acc : 0.63671875 validation acc: 0.622093023255814 \n",
      "epoch 1 | train loss : 0.5915776491165161 validation loss: 0.554955780506134 \n",
      "epoch 1 | train acc : 0.703125 validation acc: 0.7034883720930233 \n",
      "epoch 2 | train loss : 0.5327791571617126 validation loss: 0.5238530039787292 \n",
      "epoch 2 | train acc : 0.70703125 validation acc: 0.7151162790697675 \n",
      "epoch 3 | train loss : 0.5175345540046692 validation loss: 0.5144445896148682 \n",
      "epoch 3 | train acc : 0.71875 validation acc: 0.7790697674418605 \n",
      "epoch 4 | train loss : 0.5080817341804504 validation loss: 0.52671879529953 \n",
      "epoch 4 | train acc : 0.71484375 validation acc: 0.6627906976744186 \n",
      "epoch 5 | train loss : 0.4916057884693146 validation loss: 0.4599449634552002 \n",
      "epoch 5 | train acc : 0.71484375 validation acc: 0.8081395348837209 \n",
      "epoch 6 | train loss : 0.4810916781425476 validation loss: 0.459839791059494 \n",
      "epoch 6 | train acc : 0.7421875 validation acc: 0.7558139534883721 \n",
      "epoch 7 | train loss : 0.4770192503929138 validation loss: 0.46187543869018555 \n",
      "epoch 7 | train acc : 0.7578125 validation acc: 0.7906976744186046 \n",
      "epoch 8 | train loss : 0.46481168270111084 validation loss: 0.4512450695037842 \n",
      "epoch 8 | train acc : 0.75390625 validation acc: 0.7906976744186046 \n",
      "epoch 9 | train loss : 0.4508463740348816 validation loss: 0.4465963542461395 \n",
      "epoch 9 | train acc : 0.7578125 validation acc: 0.8023255813953488 \n",
      "epoch 10 | train loss : 0.452206015586853 validation loss: 0.45054760575294495 \n",
      "epoch 10 | train acc : 0.76953125 validation acc: 0.7906976744186046 \n",
      "epoch 11 | train loss : 0.4479726552963257 validation loss: 0.4452306628227234 \n",
      "epoch 11 | train acc : 0.7578125 validation acc: 0.8081395348837209 \n",
      "epoch 12 | train loss : 0.4365438222885132 validation loss: 0.4460116922855377 \n",
      "epoch 12 | train acc : 0.765625 validation acc: 0.7965116279069767 \n",
      "epoch 13 | train loss : 0.43926557898521423 validation loss: 0.45180749893188477 \n",
      "epoch 13 | train acc : 0.78125 validation acc: 0.7848837209302325 \n",
      "epoch 14 | train loss : 0.43855053186416626 validation loss: 0.4463355839252472 \n",
      "epoch 14 | train acc : 0.7734375 validation acc: 0.7790697674418605 \n",
      "epoch 15 | train loss : 0.42224371433258057 validation loss: 0.44627878069877625 \n",
      "epoch 15 | train acc : 0.77734375 validation acc: 0.7848837209302325 \n",
      "epoch 16 | train loss : 0.4309288263320923 validation loss: 0.4355451762676239 \n",
      "epoch 16 | train acc : 0.76171875 validation acc: 0.7965116279069767 \n",
      "epoch 17 | train loss : 0.43203479051589966 validation loss: 0.4363248944282532 \n",
      "epoch 17 | train acc : 0.765625 validation acc: 0.7965116279069767 \n",
      "epoch 18 | train loss : 0.42374974489212036 validation loss: 0.4472627341747284 \n",
      "epoch 18 | train acc : 0.76953125 validation acc: 0.7732558139534884 \n",
      "epoch 19 | train loss : 0.43184179067611694 validation loss: 0.4384491443634033 \n",
      "epoch 19 | train acc : 0.7734375 validation acc: 0.7732558139534884 \n",
      "epoch 20 | train loss : 0.4267351031303406 validation loss: 0.44687604904174805 \n",
      "epoch 20 | train acc : 0.765625 validation acc: 0.7732558139534884 \n",
      "epoch 21 | train loss : 0.42538201808929443 validation loss: 0.44389453530311584 \n",
      "epoch 21 | train acc : 0.76171875 validation acc: 0.7790697674418605 \n",
      "epoch 22 | train loss : 0.42567959427833557 validation loss: 0.4416157007217407 \n",
      "epoch 22 | train acc : 0.76953125 validation acc: 0.7790697674418605 \n",
      "epoch 23 | train loss : 0.42588120698928833 validation loss: 0.442989706993103 \n",
      "epoch 23 | train acc : 0.76953125 validation acc: 0.7732558139534884 \n",
      "epoch 24 | train loss : 0.4264332056045532 validation loss: 0.4450072944164276 \n",
      "epoch 24 | train acc : 0.76953125 validation acc: 0.7732558139534884 \n",
      "epoch 25 | train loss : 0.4228776693344116 validation loss: 0.4467739164829254 \n",
      "epoch 25 | train acc : 0.77734375 validation acc: 0.7790697674418605 \n",
      "epoch 26 | train loss : 0.42450326681137085 validation loss: 0.44688794016838074 \n",
      "epoch 26 | train acc : 0.765625 validation acc: 0.7790697674418605 \n",
      "Test accuracy: 0.7407407407407407\n"
     ]
    },
    {
     "data": {
      "image/png": "[encoded data removed]",
      "text/plain": [
       "<Figure size 432x288 with 1 Axes>"
      ]
     },
     "metadata": {
      "needs_background": "light"
     },
     "output_type": "display_data"
    },
    {
     "data": {
      "image/png": "[encoded data removed]",
      "text/plain": [
       "<Figure size 432x288 with 1 Axes>"
      ]
     },
     "metadata": {
      "needs_background": "light"
     },
     "output_type": "display_data"
    }
   ],
   "source": [
    "from utils.learn import train_model\n",
    "\n",
    "model = Network(NUM_FEATURES, HIDDEN_DIM, OUTPUT_DIM,\n",
    "                bidirectional=IS_BID, num_layers=NUM_LAYERS).to(device)\n",
    "model_name = f'b{BATCH_SIZE}_lr{lr}_sz{step_size}_g{gamma}_h{HIDDEN_DIM}_nl{NUM_LAYERS}_no_head.pt' #no_head\n",
    "optimizer = torch.optim.Adam(model.parameters(), lr=lr, weight_decay=weight_decay)\n",
    "loss_fn = nn.NLLLoss()\n",
    "scheduler = torch.optim.lr_scheduler.StepLR(optimizer, step_size=step_size, gamma=gamma)\n",
    "\n",
    "\n",
    "train_model(model, model_name, BATCH_SIZE, device, early_stop_patience,\n",
    "            train_loader, validation_loader, test_loader,\n",
    "            optimizer, scheduler, loss_fn)"
   ]
  },
  {
   "cell_type": "markdown",
   "metadata": {},
   "source": [
    "# False analysis "
   ]
  },
  {
   "cell_type": "code",
   "execution_count": 36,
   "metadata": {},
   "outputs": [
    {
     "name": "stdout",
     "output_type": "stream",
     "text": [
      "correct [3, 51, 25, 55, 102, 67, 68, 78, 69, 8, 81, 97, 32, 95, 92, 56, 99, 105, 88, 31, 12, 76, 100, 65, 73, 62, 49, 94, 63, 47, 18, 57, 75, 70, 106, 52, 0, 61, 20, 71, 59, 84, 2, 19, 101, 24, 85, 83, 104, 30, 4, 50, 79, 38, 58, 34, 7, 107, 44, 91, 53, 42, 16, 93, 43, 45, 96, 13, 48, 6, 5, 35, 87, 103, 82, 89, 60, 86, 33, 22]\n",
      "wrong [77, 46, 39, 98, 74, 29, 54, 72, 41, 28, 27, 40, 64, 37, 21, 23, 66, 17, 15, 90, 36, 1, 10, 26, 11, 14, 80, 9]\n"
     ]
    }
   ],
   "source": [
    "from utils.learn import calculate_acc\n",
    "from visualization import points_visualization\n",
    "from IPython.display import Image\n",
    "\n",
    "\n",
    "model.load_state_dict(torch.load('model_results/' + model_name))\n",
    "model.eval()\n",
    "_, correct_idx, wrong_idx = calculate_acc(model, test_loader, device, BATCH_SIZE, True)\n",
    "print('correct', correct_idx)\n",
    "print('wrong', wrong_idx)\n",
    "\n",
    "# crash here - TODO - need to split the names dict at the beginging so the idx will be the same\n",
    "# points_visualization.create_gif_for_given_shot(names[3] ,x_test[3])\n",
    "\n",
    "# with open('visualization/shots_3d_demo/fts_10_7.5_0.gif','rb') as f:\n",
    "#     display(Image(data=f.read(), format='png'))"
   ]
  }
 ],
 "metadata": {
  "kernelspec": {
   "display_name": "Python 3 (ipykernel)",
   "language": "python",
   "name": "python3"
  },
  "language_info": {
   "codemirror_mode": {
    "name": "ipython",
    "version": 3
   },
   "file_extension": ".py",
   "mimetype": "text/x-python",
   "name": "python",
   "nbconvert_exporter": "python",
   "pygments_lexer": "ipython3",
   "version": "3.9.0"
  }
 },
 "nbformat": 4,
 "nbformat_minor": 1
}
