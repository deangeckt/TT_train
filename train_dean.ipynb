{
 "cells": [
  {
   "cell_type": "markdown",
   "metadata": {},
   "source": [
    "Reading Data"
   ]
  },
  {
   "cell_type": "code",
   "execution_count": 1,
   "metadata": {},
   "outputs": [
    {
     "name": "stdout",
     "output_type": "stream",
     "text": [
      "all examples: 1371\n"
     ]
    },
    {
     "data": {
      "application/vnd.jupyter.widget-view+json": {
       "model_id": "b5b5faad7c9641e19c1b4feb3bb48ef4",
       "version_major": 2,
       "version_minor": 0
      },
      "text/plain": [
       "0it [00:00, ?it/s]"
      ]
     },
     "metadata": {},
     "output_type": "display_data"
    }
   ],
   "source": [
    "import pandas as pd\n",
    "from tqdm.notebook import tqdm\n",
    "import numpy as np\n",
    "import matplotlib.pyplot as plt\n",
    "import torch\n",
    "\n",
    "SEQ_LEN = 50\n",
    "NUM_FEATURES = 4 * 25  # 25 landmarks X 4 features each - x,y,z,vis\n",
    "\n",
    "\n",
    "def read_raw_data(score_path, data_path):\n",
    "    shot_names = {}\n",
    "\n",
    "    score_df = pd.read_csv(score_path)\n",
    "    score_df = score_df[score_df['frames'] < SEQ_LEN]\n",
    "\n",
    "    data_df = pd.read_csv(data_path)\n",
    "    amount_of_shots = len(score_df)\n",
    "    print('all examples:', amount_of_shots)\n",
    "\n",
    "    single_shot_x = np.zeros((SEQ_LEN, NUM_FEATURES))\n",
    "    x = np.zeros((amount_of_shots, SEQ_LEN, NUM_FEATURES))\n",
    "    y = []\n",
    "    shot_index = 0\n",
    "\n",
    "    for _, row in tqdm(score_df.iterrows()):\n",
    "\n",
    "        frames = row['frames']\n",
    "        score = row['score']\n",
    "        shot_name = row['name']\n",
    "\n",
    "        for i in range(0, frames):\n",
    "            frame_name = shot_name + '_{}'.format(i)\n",
    "            shot_data = []\n",
    "            for k, v in data_df[data_df['name'] == frame_name].iteritems():\n",
    "                if k == 'name':\n",
    "                    continue\n",
    "                shot_data.append(v.values[0])\n",
    "            single_shot_x[i] = np.array(shot_data)\n",
    "\n",
    "        if shot_index == amount_of_shots:\n",
    "            break\n",
    "\n",
    "        y.append(score)\n",
    "        x[shot_index] = np.nan_to_num(single_shot_x)\n",
    "        shot_names[shot_index] = shot_name\n",
    "        shot_index += 1\n",
    "    return torch.from_numpy(x).float(), np.array(y), shot_names\n",
    "\n",
    "\n",
    "# keep x and y unchanged\n",
    "x, y, names = read_raw_data(score_path='labels/fts_score.csv', data_path='labels/fts_data.csv')"
   ]
  },
  {
   "cell_type": "markdown",
   "metadata": {},
   "source": [
    "Feature Selection"
   ]
  },
  {
   "cell_type": "code",
   "execution_count": 2,
   "metadata": {
    "pycharm": {
     "name": "#%%\n"
    }
   },
   "outputs": [
    {
     "name": "stdout",
     "output_type": "stream",
     "text": [
      "torch.Size([1371, 50, 100])\n"
     ]
    }
   ],
   "source": [
    "def feature_selection(remove_features):\n",
    "    copy = x.clone() # don't change x\n",
    "    # TODO - impl\n",
    "    return copy\n",
    "\n",
    "#Usage example - remove head landmarks \n",
    "head_landmarks = [0, 1, 2, 3, 4, 5, 6, 7, 8, 9, 10]\n",
    "data = feature_selection(head_landmarks)\n",
    "print(data.shape)"
   ]
  },
  {
   "cell_type": "markdown",
   "metadata": {},
   "source": [
    "Binary scoring"
   ]
  },
  {
   "cell_type": "code",
   "execution_count": 3,
   "metadata": {},
   "outputs": [
    {
     "name": "stdout",
     "output_type": "stream",
     "text": [
      "label: 0: 1101 samples\n",
      "label: 1: 270 samples\n"
     ]
    }
   ],
   "source": [
    "score_threshold = 6\n",
    "labels = np.array(y)\n",
    "labels[labels <= score_threshold] = 0\n",
    "labels[labels > score_threshold] = 1\n",
    "unique, counts = np.unique(labels, return_counts=True)\n",
    "for idx, c in enumerate(counts):\n",
    "    print(f'label: {idx}: {c} samples')"
   ]
  },
  {
   "cell_type": "markdown",
   "metadata": {},
   "source": [
    "Config"
   ]
  },
  {
   "cell_type": "code",
   "execution_count": 11,
   "metadata": {},
   "outputs": [],
   "source": [
    "## Network \n",
    "HIDDEN_DIM = 128\n",
    "OUTPUT_DIM = 2\n",
    "BATCH_SIZE = 4\n",
    "IS_BID = True\n",
    "NUM_LAYERS = 3\n",
    "\n",
    "## Optimizer  \n",
    "lr = 1e-3\n",
    "weight_decay=0.001\n",
    "\n",
    "## Scheduler\n",
    "step_size=3\n",
    "gamma=0.5\n",
    "\n",
    "early_stop_patience = 7"
   ]
  },
  {
   "cell_type": "markdown",
   "metadata": {},
   "source": [
    "Data Set & Loaders"
   ]
  },
  {
   "cell_type": "code",
   "execution_count": 12,
   "metadata": {},
   "outputs": [
    {
     "name": "stdout",
     "output_type": "stream",
     "text": [
      "#train samples:  657\n",
      "#valid samples:  439\n",
      "#test  samples:  275\n"
     ]
    }
   ],
   "source": [
    "from torch.utils.data import Dataset, DataLoader, random_split\n",
    "\n",
    "def split_(ratio, dataset):\n",
    "    major_size = int(ratio * len(dataset))\n",
    "    minor_size = int((1-ratio) * len(dataset))\n",
    "    return random_split(dataset, [major_size, minor_size + 1], torch.Generator().manual_seed(42))\n",
    "\n",
    "\n",
    "class TTDataset(Dataset):\n",
    "    def __init__(self, data, labels):\n",
    "        self.data = data\n",
    "        self.labels = labels\n",
    "\n",
    "    def __len__(self):\n",
    "        return len(data)\n",
    "\n",
    "    def __getitem__(self, idx):\n",
    "        return self.data[idx], self.labels[idx]\n",
    "\n",
    "def create_dataloaders(batch_size):\n",
    "    dataset_all = TTDataset(data, labels)\n",
    "    train_data, test_data = split_(0.8, dataset_all)\n",
    "    train_data, validation_data = split_(0.6, train_data)\n",
    "    \n",
    "    print('#train samples: ', len(train_data))\n",
    "    print('#valid samples: ', len(validation_data))\n",
    "    print('#test  samples: ', len(test_data))\n",
    "    \n",
    "    train_loader = DataLoader(train_data, batch_size=batch_size, shuffle=True)\n",
    "    validation_loader = DataLoader(validation_data, batch_size=batch_size, shuffle=True)\n",
    "    test_loader = DataLoader(test_data, batch_size=batch_size, shuffle=True)\n",
    "    \n",
    "    return train_loader, validation_loader, test_loader\n",
    "\n",
    "    \n",
    "train_loader, validation_loader, test_loader = create_dataloaders(BATCH_SIZE)"
   ]
  },
  {
   "cell_type": "markdown",
   "metadata": {},
   "source": [
    "Learning"
   ]
  },
  {
   "cell_type": "code",
   "execution_count": 13,
   "metadata": {},
   "outputs": [],
   "source": [
    "import torch.nn as nn\n",
    "import math\n",
    "\n",
    "class Attention(nn.Module):\n",
    "    def __init__(self, hidden_size):\n",
    "        super().__init__()\n",
    "        self.hidden_size = hidden_size\n",
    "        self.scale = 1. / math.sqrt(hidden_size)\n",
    "\n",
    "    def forward(self, hidden, outputs):\n",
    "        hidden = hidden.unsqueeze(1)\n",
    "        values = outputs.transpose(0, 1)\n",
    "        outputs = outputs.transpose(0, 1).transpose(1, 2)\n",
    "\n",
    "        weights = torch.bmm(hidden, outputs)\n",
    "        scores = F.softmax(weights.mul_(self.scale), dim=2)\n",
    "        linear_combination = torch.bmm(scores, values).squeeze(1)\n",
    "        return linear_combination\n",
    "\n",
    "\n",
    "class Network(nn.Module):\n",
    "    def __init__(self, input_dim, h_dim, out_dim, num_layers=1, bidirectional=True):\n",
    "        super().__init__()\n",
    "        self.num_layers = num_layers\n",
    "        self.h_dim = h_dim\n",
    "        self.bidirectional = bidirectional\n",
    "        self.dropout = nn.Dropout(0.5)\n",
    "\n",
    "        # Attention layer - unused so far\n",
    "        hid_bidirectional = h_dim * 2 if bidirectional else h_dim\n",
    "        self.atten = Attention(hid_bidirectional)\n",
    "\n",
    "        # LSTM\n",
    "        self.lstm = nn.LSTM(input_size=input_dim,\n",
    "                            hidden_size=h_dim,\n",
    "                            num_layers=num_layers,\n",
    "                            bidirectional=bidirectional, batch_first=True)  # dropout\n",
    "        # FC layer\n",
    "        self.fc = nn.Linear(hid_bidirectional, out_dim, bias=True)\n",
    "\n",
    "        # To convert class scores to log-probability we'll apply log-softmax\n",
    "        self.log_softmax = nn.LogSoftmax(dim=1)\n",
    "\n",
    "    def forward(self, X):\n",
    "        lay_times_dir = self.num_layers * 2 if self.bidirectional else self.num_layers\n",
    "        h0 = torch.zeros(lay_times_dir, BATCH_SIZE, HIDDEN_DIM).to(device)\n",
    "        c0 = torch.zeros(lay_times_dir, BATCH_SIZE, HIDDEN_DIM).to(device)\n",
    "\n",
    "        out, (h_t, c_t) = self.lstm(X, (h0, c0))\n",
    "        if self.bidirectional:\n",
    "            cell_state = torch.cat([c_t[-1], c_t[-2]], dim=1)\n",
    "        else:\n",
    "            cell_state = c_t[-1]\n",
    "\n",
    "        y = self.fc(cell_state)\n",
    "        yt_log_proba = self.log_softmax(y)\n",
    "        return yt_log_proba"
   ]
  },
  {
   "cell_type": "code",
   "execution_count": 7,
   "metadata": {},
   "outputs": [
    {
     "name": "stdout",
     "output_type": "stream",
     "text": [
      "cuda\n"
     ]
    }
   ],
   "source": [
    "device = torch.device('cpu')\n",
    "if torch.cuda.is_available():\n",
    "    device = torch.device('cuda')\n",
    "print(device)"
   ]
  },
  {
   "cell_type": "code",
   "execution_count": 14,
   "metadata": {
    "scrolled": true
   },
   "outputs": [
    {
     "name": "stdout",
     "output_type": "stream",
     "text": [
      "epoch 0 | train loss : 0.47352805733680725 validation loss: 0.5196871161460876 \n",
      "epoch 0 | train acc : 0.8048780487804879 validation acc: 0.805045871559633 \n",
      "epoch 1 | train loss : 0.46113866567611694 validation loss: 0.4970395267009735 \n",
      "epoch 1 | train acc : 0.8125 validation acc: 0.7935779816513762 \n",
      "epoch 2 | train loss : 0.4444764256477356 validation loss: 0.5716851353645325 \n",
      "epoch 2 | train acc : 0.8048780487804879 validation acc: 0.805045871559633 \n",
      "epoch 3 | train loss : 0.4417935907840729 validation loss: 0.4557199478149414 \n",
      "epoch 3 | train acc : 0.8079268292682927 validation acc: 0.8027522935779816 \n",
      "epoch 4 | train loss : 0.4235692024230957 validation loss: 0.44967126846313477 \n",
      "epoch 4 | train acc : 0.8185975609756098 validation acc: 0.7889908256880734 \n",
      "epoch 5 | train loss : 0.42340517044067383 validation loss: 0.44216471910476685 \n",
      "epoch 5 | train acc : 0.8048780487804879 validation acc: 0.805045871559633 \n",
      "epoch 6 | train loss : 0.41524839401245117 validation loss: 0.434824675321579 \n",
      "epoch 6 | train acc : 0.8125 validation acc: 0.7981651376146789 \n",
      "epoch 7 | train loss : 0.4141498804092407 validation loss: 0.4456334114074707 \n",
      "epoch 7 | train acc : 0.8201219512195121 validation acc: 0.7889908256880734 \n",
      "epoch 8 | train loss : 0.4099602997303009 validation loss: 0.4369908571243286 \n",
      "epoch 8 | train acc : 0.8201219512195121 validation acc: 0.7912844036697247 \n",
      "epoch 9 | train loss : 0.39880654215812683 validation loss: 0.42639899253845215 \n",
      "epoch 9 | train acc : 0.8109756097560976 validation acc: 0.8004587155963303 \n",
      "epoch 10 | train loss : 0.3914918601512909 validation loss: 0.41138336062431335 \n",
      "epoch 10 | train acc : 0.823170731707317 validation acc: 0.8096330275229358 \n",
      "epoch 11 | train loss : 0.39362436532974243 validation loss: 0.4260658621788025 \n",
      "epoch 11 | train acc : 0.8384146341463414 validation acc: 0.8027522935779816 \n",
      "epoch 12 | train loss : 0.368256539106369 validation loss: 0.4031968414783478 \n",
      "epoch 12 | train acc : 0.8399390243902439 validation acc: 0.8302752293577982 \n",
      "epoch 13 | train loss : 0.3631729483604431 validation loss: 0.4032367169857025 \n",
      "epoch 13 | train acc : 0.8262195121951219 validation acc: 0.8142201834862385 \n",
      "epoch 14 | train loss : 0.35594236850738525 validation loss: 0.39338600635528564 \n",
      "epoch 14 | train acc : 0.8429878048780488 validation acc: 0.823394495412844 \n",
      "epoch 15 | train loss : 0.3528979420661926 validation loss: 0.3873497247695923 \n",
      "epoch 15 | train acc : 0.8475609756097561 validation acc: 0.8211009174311926 \n",
      "epoch 16 | train loss : 0.3477438986301422 validation loss: 0.3846284747123718 \n",
      "epoch 16 | train acc : 0.8460365853658537 validation acc: 0.8096330275229358 \n",
      "epoch 17 | train loss : 0.3463227450847626 validation loss: 0.3845140337944031 \n",
      "epoch 17 | train acc : 0.8414634146341463 validation acc: 0.8211009174311926 \n",
      "epoch 18 | train loss : 0.3432299792766571 validation loss: 0.3838726580142975 \n",
      "epoch 18 | train acc : 0.850609756097561 validation acc: 0.8165137614678899 \n",
      "epoch 19 | train loss : 0.33965930342674255 validation loss: 0.3888339400291443 \n",
      "epoch 19 | train acc : 0.8475609756097561 validation acc: 0.8073394495412844 \n",
      "epoch 20 | train loss : 0.3400896191596985 validation loss: 0.3838706314563751 \n",
      "epoch 20 | train acc : 0.8521341463414634 validation acc: 0.8211009174311926 \n",
      "epoch 21 | train loss : 0.3378804922103882 validation loss: 0.3848271071910858 \n",
      "epoch 21 | train acc : 0.850609756097561 validation acc: 0.8188073394495413 \n",
      "epoch 22 | train loss : 0.33762791752815247 validation loss: 0.38490572571754456 \n",
      "epoch 22 | train acc : 0.8521341463414634 validation acc: 0.8188073394495413 \n",
      "epoch 23 | train loss : 0.33547890186309814 validation loss: 0.3821106255054474 \n",
      "epoch 23 | train acc : 0.850609756097561 validation acc: 0.8142201834862385 \n",
      "epoch 24 | train loss : 0.3354964256286621 validation loss: 0.3843102753162384 \n",
      "epoch 24 | train acc : 0.8551829268292683 validation acc: 0.8188073394495413 \n",
      "epoch 25 | train loss : 0.3353385329246521 validation loss: 0.38301441073417664 \n",
      "epoch 25 | train acc : 0.8536585365853658 validation acc: 0.8165137614678899 \n",
      "epoch 26 | train loss : 0.33360886573791504 validation loss: 0.38346099853515625 \n",
      "epoch 26 | train acc : 0.8536585365853658 validation acc: 0.8211009174311926 \n",
      "epoch 27 | train loss : 0.3347841203212738 validation loss: 0.381045937538147 \n",
      "epoch 27 | train acc : 0.8536585365853658 validation acc: 0.8165137614678899 \n",
      "epoch 28 | train loss : 0.33457380533218384 validation loss: 0.3837331235408783 \n",
      "epoch 28 | train acc : 0.8536585365853658 validation acc: 0.8188073394495413 \n",
      "epoch 29 | train loss : 0.3345661163330078 validation loss: 0.3751969039440155 \n",
      "epoch 29 | train acc : 0.8536585365853658 validation acc: 0.8211009174311926 \n",
      "epoch 30 | train loss : 0.3338359296321869 validation loss: 0.38259825110435486 \n",
      "epoch 30 | train acc : 0.8551829268292683 validation acc: 0.8188073394495413 \n",
      "epoch 31 | train loss : 0.3327445089817047 validation loss: 0.38290372490882874 \n",
      "epoch 31 | train acc : 0.8551829268292683 validation acc: 0.8211009174311926 \n",
      "epoch 32 | train loss : 0.33404341340065 validation loss: 0.38235607743263245 \n",
      "epoch 32 | train acc : 0.8551829268292683 validation acc: 0.8211009174311926 \n",
      "epoch 33 | train loss : 0.3338460624217987 validation loss: 0.37902745604515076 \n",
      "epoch 33 | train acc : 0.8536585365853658 validation acc: 0.8188073394495413 \n",
      "epoch 34 | train loss : 0.3333713412284851 validation loss: 0.3815932869911194 \n",
      "epoch 34 | train acc : 0.8551829268292683 validation acc: 0.8211009174311926 \n",
      "epoch 35 | train loss : 0.33392053842544556 validation loss: 0.3801887333393097 \n",
      "epoch 35 | train acc : 0.8551829268292683 validation acc: 0.8211009174311926 \n",
      "epoch 36 | train loss : 0.3338060975074768 validation loss: 0.38004469871520996 \n",
      "epoch 36 | train acc : 0.8567073170731707 validation acc: 0.8211009174311926 \n",
      "Test accuracy: 0.8051470588235294\n"
     ]
    },
    {
     "data": {
      "image/png": "[encoded data removed]",
      "text/plain": [
       "<Figure size 432x288 with 1 Axes>"
      ]
     },
     "metadata": {
      "needs_background": "light"
     },
     "output_type": "display_data"
    },
    {
     "data": {
      "image/png": "[encoded data removed]",
      "text/plain": [
       "<Figure size 432x288 with 1 Axes>"
      ]
     },
     "metadata": {
      "needs_background": "light"
     },
     "output_type": "display_data"
    }
   ],
   "source": [
    "from learning.learn_utils import train_model\n",
    "\n",
    "model = Network(NUM_FEATURES, HIDDEN_DIM, OUTPUT_DIM,\n",
    "                bidirectional=IS_BID, num_layers=NUM_LAYERS).to(device)\n",
    "model_name = f'b{BATCH_SIZE}_lr{lr}_sz{step_size}_g{gamma}_h{HIDDEN_DIM}_nl{NUM_LAYERS}.pt'\n",
    "optimizer = torch.optim.Adam(model.parameters(), lr=lr, weight_decay=weight_decay)\n",
    "loss_fn = nn.NLLLoss()\n",
    "scheduler = torch.optim.lr_scheduler.StepLR(optimizer, step_size=step_size, gamma=gamma)\n",
    "\n",
    "\n",
    "train_model(model, model_name, BATCH_SIZE, device, early_stop_patience,\n",
    "            train_loader, validation_loader, test_loader,\n",
    "            optimizer, scheduler, loss_fn)"
   ]
  },
  {
   "cell_type": "markdown",
   "metadata": {},
   "source": [
    "False analysis "
   ]
  },
  {
   "cell_type": "code",
   "execution_count": null,
   "metadata": {},
   "outputs": [],
   "source": []
  }
 ],
 "metadata": {
  "kernelspec": {
   "display_name": "Python 3 (ipykernel)",
   "language": "python",
   "name": "python3"
  },
  "language_info": {
   "codemirror_mode": {
    "name": "ipython",
    "version": 3
   },
   "file_extension": ".py",
   "mimetype": "text/x-python",
   "name": "python",
   "nbconvert_exporter": "python",
   "pygments_lexer": "ipython3",
   "version": "3.9.0"
  }
 },
 "nbformat": 4,
 "nbformat_minor": 1
}
