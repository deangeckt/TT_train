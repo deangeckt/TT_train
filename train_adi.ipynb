{
 "cells": [
  {
   "cell_type": "code",
   "execution_count": null,
   "id": "d04c20e6",
   "metadata": {},
   "outputs": [
    {
     "name": "stdout",
     "output_type": "stream",
     "text": [
      "all examples: 1371\n"
     ]
    },
    {
     "data": {
      "application/vnd.jupyter.widget-view+json": {
       "model_id": "174f25f5dfec447babb72568f6828905",
       "version_major": 2,
       "version_minor": 0
      },
      "text/plain": [
       "0it [00:00, ?it/s]"
      ]
     },
     "metadata": {},
     "output_type": "display_data"
    }
   ],
   "source": [
    "import pandas as pd\n",
    "from tqdm.notebook import tqdm\n",
    "import numpy as np\n",
    "import matplotlib.pyplot as plt\n",
    "import torch\n",
    "\n",
    "SEQ_LEN = 50\n",
    "NUM_FEATURES = 4 * 25  # 25 landmarks X 4 features each - x,y,z,vis\n",
    "\n",
    "\n",
    "def read_raw_data(score_path, data_path):\n",
    "    shot_names = {}\n",
    "\n",
    "    score_df = pd.read_csv(score_path)\n",
    "    score_df = score_df[score_df['frames'] < SEQ_LEN]\n",
    "\n",
    "    data_df = pd.read_csv(data_path)\n",
    "    amount_of_shots = len(score_df)\n",
    "    print('all examples:', amount_of_shots)\n",
    "\n",
    "    single_shot_x = np.zeros((SEQ_LEN, NUM_FEATURES))\n",
    "    x = np.zeros((amount_of_shots, SEQ_LEN, NUM_FEATURES))\n",
    "    y = []\n",
    "    shot_index = 0\n",
    "\n",
    "    for _, row in tqdm(score_df.iterrows()):\n",
    "\n",
    "        frames = row['frames']\n",
    "        score = row['score']\n",
    "        shot_name = row['name']\n",
    "\n",
    "        for i in range(0, frames):\n",
    "            frame_name = shot_name + '_{}'.format(i)\n",
    "            shot_data = []\n",
    "            for k, v in data_df[data_df['name'] == frame_name].iteritems():\n",
    "                if k == 'name':\n",
    "                    continue\n",
    "                shot_data.append(v.values[0])\n",
    "            single_shot_x[i] = np.array(shot_data)\n",
    "\n",
    "        if shot_index == amount_of_shots:\n",
    "            break\n",
    "\n",
    "        y.append(score)\n",
    "        x[shot_index] = np.nan_to_num(single_shot_x)\n",
    "        shot_names[shot_index] = shot_name\n",
    "        shot_index += 1\n",
    "    return torch.from_numpy(x).float(), np.array(y), shot_names\n",
    "\n",
    "\n",
    "# keep x and y unchanged\n",
    "x, y, names = read_raw_data(score_path='labels/fts_score.csv', data_path='labels/fts_data.csv')"
   ]
  },
  {
   "cell_type": "markdown",
   "id": "b509c76a",
   "metadata": {},
   "source": [
    "visualization"
   ]
  },
  {
   "cell_type": "code",
   "execution_count": null,
   "id": "9e0887af",
   "metadata": {
    "scrolled": true
   },
   "outputs": [],
   "source": [
    "from visualization import points_visualization\n",
    "\n",
    "points_visualization.create_gif_for_given_shot(names[1],x[1])"
   ]
  },
  {
   "cell_type": "markdown",
   "id": "bfe3d91f",
   "metadata": {},
   "source": [
    "feature selection"
   ]
  },
  {
   "cell_type": "code",
   "execution_count": 12,
   "id": "08c46718",
   "metadata": {},
   "outputs": [
    {
     "name": "stdout",
     "output_type": "stream",
     "text": [
      "torch.Size([1371, 50, 56])\n"
     ]
    }
   ],
   "source": [
    "\n",
    "def feature_selection(remove_features):\n",
    "    \n",
    "    num_of_landmark_to_remove = len(remove_features)*4\n",
    "    copy = x.clone() # don't change x\n",
    "    \n",
    "    SEQ_LEN = 50\n",
    "    NUM_OF_POINTS=25\n",
    "    ALL_EXISTING_FEATURES = 4 * NUM_OF_POINTS\n",
    "    NUM_FEATURES = 4 * 25 - num_of_landmark_to_remove \n",
    "    amount_of_shots= len(x)\n",
    "    single_shot_x = np.zeros((SEQ_LEN, NUM_FEATURES))\n",
    "    new_frame_after_removing_features=np.array([])\n",
    "    shot_index = 0\n",
    "    seq_index=0\n",
    "    copy.numpy()\n",
    "    new_frame = np.zeros((amount_of_shots, SEQ_LEN, NUM_FEATURES))\n",
    "    for shot in copy:\n",
    "        shot_data = []\n",
    "        for frame in shot:\n",
    "            new_frame_after_removing_features=np.array([])\n",
    "            for point_num in range(0,NUM_OF_POINTS):\n",
    "                if point_num not in remove_features:\n",
    "                    point_features = frame[point_num*4:point_num*4+4]\n",
    "                    new_frame_after_removing_features = np.concatenate((new_frame_after_removing_features,point_features))\n",
    "            if seq_index == SEQ_LEN-1:\n",
    "                seq_index=0\n",
    "                break\n",
    "            single_shot_x[seq_index] = np.array(new_frame_after_removing_features) \n",
    "            seq_index+=1\n",
    "        shot_index += 1\n",
    "        if shot_index == amount_of_shots-1:\n",
    "         break\n",
    "        new_frame[shot_index] = np.nan_to_num(single_shot_x)\n",
    "\n",
    "\n",
    "    return torch.from_numpy(new_frame).float()\n",
    "\n",
    "#Usage example - remove head landmarks \n",
    "landmarks_to_remove = [0, 1, 2, 3, 4, 5, 6, 7, 8, 9, 10]\n",
    "data = feature_selection(landmarks_to_remove)\n",
    "print(data.shape)\n",
    "\n"
   ]
  }
 ],
 "metadata": {
  "kernelspec": {
   "display_name": "Python 3 (ipykernel)",
   "language": "python",
   "name": "python3"
  },
  "language_info": {
   "codemirror_mode": {
    "name": "ipython",
    "version": 3
   },
   "file_extension": ".py",
   "mimetype": "text/x-python",
   "name": "python",
   "nbconvert_exporter": "python",
   "pygments_lexer": "ipython3",
   "version": "3.9.13"
  }
 },
 "nbformat": 4,
 "nbformat_minor": 5
}
