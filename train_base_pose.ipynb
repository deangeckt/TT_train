{
 "cells": [
  {
   "cell_type": "markdown",
   "metadata": {},
   "source": [
    "Reading Data"
   ]
  },
  {
   "cell_type": "code",
   "execution_count": 18,
   "metadata": {},
   "outputs": [
    {
     "name": "stdout",
     "output_type": "stream",
     "text": [
      "all examples: 1371\n"
     ]
    },
    {
     "data": {
      "application/vnd.jupyter.widget-view+json": {
       "model_id": "b8249b3b06494c1dbad0dd183e3ec70d",
       "version_major": 2,
       "version_minor": 0
      },
      "text/plain": [
       "0it [00:00, ?it/s]"
      ]
     },
     "metadata": {},
     "output_type": "display_data"
    }
   ],
   "source": [
    "import pandas as pd\n",
    "from tqdm.notebook import tqdm\n",
    "import numpy as np\n",
    "import matplotlib.pyplot as plt\n",
    "from sklearn.model_selection import train_test_split\n",
    "\n",
    "SEQ_LEN = 50\n",
    "INPUT_SIZE = 4 * 25  # 25 landmarks X 4 features each - x,y,z,vis\n",
    "\n",
    "\n",
    "def read_raw_data(score_path, data_path):\n",
    "    shot_names = {}\n",
    "\n",
    "    score_df = pd.read_csv(score_path)\n",
    "    score_df = score_df[score_df['frames'] < SEQ_LEN]\n",
    "\n",
    "    data_df = pd.read_csv(data_path)\n",
    "    amount_of_shots = len(score_df)\n",
    "    print('all examples:', amount_of_shots)\n",
    "\n",
    "    single_shot_x = np.zeros((SEQ_LEN, INPUT_SIZE))\n",
    "    x = np.zeros((amount_of_shots, SEQ_LEN, INPUT_SIZE))\n",
    "    y = []\n",
    "    shot_index = 0\n",
    "\n",
    "    for _, row in tqdm(score_df.iterrows()):\n",
    "\n",
    "        frames = row['frames']\n",
    "        score = row['score']\n",
    "        shot_name = row['name']\n",
    "\n",
    "        for i in range(0, frames):\n",
    "            frame_name = shot_name + '_{}'.format(i)\n",
    "            shot_data = []\n",
    "            for k, v in data_df[data_df['name'] == frame_name].iteritems():\n",
    "                if k == 'name':\n",
    "                    continue\n",
    "                shot_data.append(v.values[0])\n",
    "            single_shot_x[i] = np.array(shot_data)\n",
    "\n",
    "        if shot_index == amount_of_shots:\n",
    "            break\n",
    "\n",
    "        y.append(score)\n",
    "        x[shot_index] = np.nan_to_num(single_shot_x)\n",
    "        shot_names[shot_index] = shot_name\n",
    "        shot_index += 1\n",
    "\n",
    "    return x, np.array(y), shot_names\n",
    "\n",
    "\n",
    "# keep x and y unchanged\n",
    "x, y, names = read_raw_data(score_path='labels/fts_score.csv', data_path='labels/fts_data.csv')"
   ]
  },
  {
   "cell_type": "markdown",
   "metadata": {},
   "source": [
    "Feature Selection"
   ]
  },
  {
   "cell_type": "code",
   "execution_count": 26,
   "metadata": {
    "pycharm": {
     "name": "#%%\n"
    }
   },
   "outputs": [
    {
     "name": "stdout",
     "output_type": "stream",
     "text": [
      "(1371, 50, 100)\n"
     ]
    }
   ],
   "source": [
    "def feature_selection(remove_features):\n",
    "    copy = x.copy() # don't change x\n",
    "    # TODO - impl\n",
    "    return copy\n",
    "\n",
    "#Usage example - remove head landmarks \n",
    "head_landmarks = [0, 1, 2, 3, 4, 5, 6, 7, 8, 9, 10]\n",
    "data = feature_selection(head_landmarks)\n",
    "print(data.shape)"
   ]
  },
  {
   "cell_type": "markdown",
   "metadata": {},
   "source": [
    "Binary scoring"
   ]
  },
  {
   "cell_type": "code",
   "execution_count": 19,
   "metadata": {},
   "outputs": [
    {
     "name": "stdout",
     "output_type": "stream",
     "text": [
      "label: 0: 1101 samples\n",
      "label: 1: 270 samples\n"
     ]
    }
   ],
   "source": [
    "score_threshold = 6\n",
    "labels = np.array(y)\n",
    "labels[labels <= score_threshold] = 0\n",
    "labels[labels > score_threshold] = 1\n",
    "unique, counts = np.unique(labels, return_counts=True)\n",
    "for idx, c in enumerate(counts):\n",
    "    print(f'label: {idx}: {c} samples')"
   ]
  }
 ],
 "metadata": {
  "kernelspec": {
   "display_name": "Python 3 (ipykernel)",
   "language": "python",
   "name": "python3"
  },
  "language_info": {
   "codemirror_mode": {
    "name": "ipython",
    "version": 3
   },
   "file_extension": ".py",
   "mimetype": "text/x-python",
   "name": "python",
   "nbconvert_exporter": "python",
   "pygments_lexer": "ipython3",
   "version": "3.9.0"
  }
 },
 "nbformat": 4,
 "nbformat_minor": 1
}
