{
 "cells": [
  {
   "cell_type": "code",
   "execution_count": null,
   "outputs": [],
   "source": [
    "import pandas as pd\n",
    "from tqdm.notebook import tqdm\n",
    "import numpy as np\n",
    "from sklearn.model_selection import train_test_split\n",
    "\n",
    "SEQ_LEN = 50\n",
    "# INPUT_SIZE = 3 * 25  # x,y,z,vis * 25 points , removed vis\n",
    "\n",
    "#remove head landmarks - # TODO FIX outside this func\n",
    "INPUT_SIZE = 3 * (25-11)\n",
    "head = [0, 1, 2, 3, 4, 5, 6, 7, 8, 9, 10]\n",
    "str_head = [str(h) for h in head]\n",
    "\n",
    "# y: ndarray (1200,)\n",
    "# x: ndarray (1200, 50, 100)\n",
    "def read_raw_data(score_path, data_path):\n",
    "    score_df = pd.read_excel(score_path, engine=\"openpyxl\")\n",
    "    score_df = score_df[score_df['frames'] <= SEQ_LEN]\n",
    "\n",
    "    data_df = pd.read_csv(data_path)\n",
    "    amount_of_shots = len(score_df)\n",
    "    print('all examples:', amount_of_shots)\n",
    "\n",
    "    single_shot_x = np.zeros((SEQ_LEN + 1, INPUT_SIZE))\n",
    "    x = np.zeros((amount_of_shots, SEQ_LEN + 1, INPUT_SIZE))\n",
    "    y = []\n",
    "    shot_index = 0\n",
    "\n",
    "    for _, row in tqdm(score_df.iterrows()):\n",
    "        frames = row['frames']\n",
    "        score = row['score']\n",
    "        name = row['name']\n",
    "\n",
    "        for i in range(0, frames):\n",
    "            frame_name = name + '_{}'.format(i)\n",
    "            shot_data = []\n",
    "            for k, v in data_df[data_df['name'] == frame_name].iteritems():\n",
    "                if k == 'name' or k.endswith('vis'):\n",
    "                    # TODO FIX outside this func\n",
    "                    continue\n",
    "                if any(k.split('_')[0] == h for h in str_head):\n",
    "                    continue\n",
    "                shot_data.append(v.values[0])\n",
    "            single_shot_x[i] = np.array(shot_data)\n",
    "\n",
    "        if shot_index == amount_of_shots:\n",
    "            break\n",
    "\n",
    "        y.append(score)\n",
    "        x[shot_index] = np.nan_to_num(single_shot_x)\n",
    "        shot_index += 1\n",
    "\n",
    "    return x, np.array(y)\n",
    "\n",
    "\n",
    "x, y = read_raw_data(score_path='labels/fco_score2.xlsx', data_path='labels/fco_data2.csv')"
   ],
   "metadata": {
    "collapsed": false,
    "pycharm": {
     "name": "#%%\n"
    }
   }
  },
  {
   "cell_type": "code",
   "execution_count": null,
   "outputs": [],
   "source": [
    "print('x shape', x.shape)\n",
    "print('y shape', y.shape)\n",
    "print(SEQ_LEN + 1, INPUT_SIZE)\n",
    "\n",
    "import matplotlib.pyplot as plt\n",
    "plt.hist(y)\n",
    "plt.show()"
   ],
   "metadata": {
    "collapsed": false,
    "pycharm": {
     "name": "#%%\n"
    }
   }
  }
 ],
 "metadata": {
  "kernelspec": {
   "display_name": "Python 3 (ipykernel)",
   "language": "python",
   "name": "python3"
  },
  "language_info": {
   "codemirror_mode": {
    "name": "ipython",
    "version": 3
   },
   "file_extension": ".py",
   "mimetype": "text/x-python",
   "name": "python",
   "nbconvert_exporter": "python",
   "pygments_lexer": "ipython3",
   "version": "3.7.9"
  }
 },
 "nbformat": 4,
 "nbformat_minor": 1
}